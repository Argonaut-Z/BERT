{
 "cells": [
  {
   "cell_type": "markdown",
   "metadata": {},
   "source": [
    "# 环境安装"
   ]
  },
  {
   "cell_type": "markdown",
   "metadata": {},
   "source": [
    "## 查看torch版本"
   ]
  },
  {
   "cell_type": "code",
   "execution_count": 1,
   "metadata": {},
   "outputs": [
    {
     "name": "stdout",
     "output_type": "stream",
     "text": [
      "torch 版本: 2.3.1+cu118\n",
      "torchvision 版本: 0.18.1+cu118\n",
      "torchaudio 版本: 2.3.1+cu118\n",
      "CUDA 是否可用: True\n",
      "CUDA 版本: 11.8\n"
     ]
    }
   ],
   "source": [
    "import torch\n",
    "import torchvision\n",
    "import torchaudio\n",
    "\n",
    "# 打印版本信息\n",
    "print(\"torch 版本:\", torch.__version__)\n",
    "print(\"torchvision 版本:\", torchvision.__version__)\n",
    "print(\"torchaudio 版本:\", torchaudio.__version__)\n",
    "\n",
    "# 检查 CUDA 是否可用\n",
    "print(\"CUDA 是否可用:\", torch.cuda.is_available())\n",
    "\n",
    "# 如果 CUDA 可用，打印当前 CUDA 版本\n",
    "if torch.cuda.is_available():\n",
    "    print(\"CUDA 版本:\", torch.version.cuda)"
   ]
  },
  {
   "cell_type": "markdown",
   "metadata": {},
   "source": [
    "## 导入必要库"
   ]
  },
  {
   "cell_type": "code",
   "execution_count": 2,
   "metadata": {},
   "outputs": [
    {
     "name": "stderr",
     "output_type": "stream",
     "text": [
      "e:\\ProgramData\\anaconda3\\envs\\bert\\lib\\site-packages\\tqdm\\auto.py:21: TqdmWarning: IProgress not found. Please update jupyter and ipywidgets. See https://ipywidgets.readthedocs.io/en/stable/user_install.html\n",
      "  from .autonotebook import tqdm as notebook_tqdm\n"
     ]
    },
    {
     "name": "stdout",
     "output_type": "stream",
     "text": [
      "0.18.0+cpu\n",
      "4.49.0\n",
      "2.2.3\n",
      "1.6.1\n"
     ]
    }
   ],
   "source": [
    "import transformers\n",
    "import torchtext\n",
    "import pandas\n",
    "import sklearn\n",
    "import logging\n",
    "import random\n",
    "from tqdm import tqdm\n",
    "import torch\n",
    "from torch.utils.data import DataLoader\n",
    "import os\n",
    "\n",
    "print(torchtext.__version__)\n",
    "print(transformers.__version__)\n",
    "print(pandas.__version__)\n",
    "print(sklearn.__version__)"
   ]
  },
  {
   "cell_type": "markdown",
   "metadata": {},
   "source": [
    "# 数据预处理和加载"
   ]
  },
  {
   "cell_type": "markdown",
   "metadata": {},
   "source": [
    "## 数据读取函数"
   ]
  },
  {
   "cell_type": "code",
   "execution_count": 3,
   "metadata": {},
   "outputs": [],
   "source": [
    "def read_wiki2(file_path=None, seps='.'):\n",
    "    \"\"\"\n",
    "    本函数的作用是格式化原始的wikitext-2数据集\n",
    "    下载地址为：https://s3.amazonaws.com/research.metamind.io/wikitext/wikitext-2-v1.zip\n",
    "    :param filepath:\n",
    "    :return: 最终的返回形式为一个二维list，外层list中的每个元素为一个段落；内层list中每个元素为一个段落所有句子的集合。\n",
    "            [ [sentence 1, sentence 2, ...], [sentence 1, sentence 2,...],...,[] ]\n",
    "    该返回结果也是一个标准的格式，后续若需要载入其它数据集（包括中文），只需要首先将数据集处理成这样的格式；\n",
    "    并在类LoadBertPretrainingDataset的get_format_data()方法中加入所实现的预处理函数即可完成整个预训练数据集的构造。\n",
    "    \"\"\"\n",
    "    with open(file_path, 'r') as f:\n",
    "        lines = f.readlines()   # 一次读取所有行，每一行为一个段落\n",
    "    # 1. 大写字母转换为小写字母\n",
    "    # 2. 只取每一个段落中有至少两句话的段，因为后续要构造next sentence\n",
    "    paragraphs = []\n",
    "    for line in tqdm(lines, ncols=80, desc=\" ## 正在读取原始数据\"):\n",
    "        if len(line.split(' . ')) < 2:\n",
    "            continue\n",
    "        line = line.strip() # 去掉首尾空格换行符\n",
    "        paragraphs.append([line[0]])   # 将每一行的第一个字符作为列表添加\n",
    "        for w in line[1:]:\n",
    "            if paragraphs[-1][-1][-1] in seps:  # 查看每一句话的最后一个字符是否为'.', 是句号则新加一句话\n",
    "                paragraphs[-1].append(w)\n",
    "            else:\n",
    "                paragraphs[-1][-1] += w     # 不是句号，则在末尾继续添加字符\n",
    "    random.shuffle(paragraphs)  # 将所有段落打乱\n",
    "    return paragraphs"
   ]
  },
  {
   "cell_type": "code",
   "execution_count": 7,
   "metadata": {},
   "outputs": [
    {
     "name": "stdout",
     "output_type": "stream",
     "text": [
      "The game began development in 2010 , carrying over a large portion of the work done on Valkyria Chronicles II . While it retained the standard features of the series , it also underwent multiple adjustments , such as making the game more <unk> for series newcomers . Character designer <unk> Honjou and composer Hitoshi Sakimoto both returned from previous entries , along with Valkyria Chronicles II director Takeshi Ozawa . A large team of writers handled the script . The game 's opening theme was sung by May 'n .\n"
     ]
    },
    {
     "name": "stderr",
     "output_type": "stream",
     "text": [
      " ## 正在读取原始数据: 100%|████████████| 36718/36718 [00:01<00:00, 27994.40it/s]\n"
     ]
    },
    {
     "data": {
      "text/plain": [
       "['Cultural attitudes toward gender roles , contraception , and sexual activity vary greatly around the world , and range from extremely conservative to extremely liberal .',\n",
       " ' But in places where condoms are misunderstood , <unk> , <unk> , or looked upon with overall cultural disapproval , the prevalence of condom use is directly affected .',\n",
       " ' In less @-@ developed countries and among less @-@ educated populations , <unk> about how disease transmission and conception work negatively affect the use of condoms ; additionally , in cultures with more traditional gender roles , women may feel uncomfortable demanding that their partners use condoms .']"
      ]
     },
     "execution_count": 7,
     "metadata": {},
     "output_type": "execute_result"
    }
   ],
   "source": [
    "with open('./data/WikiText/wiki.train.tokens') as f:\n",
    "    lines = f.readlines()\n",
    "\n",
    "paragraphs = []\n",
    "line = lines[4]\n",
    "line = line.strip()\n",
    "print(line)\n",
    "\n",
    "wiki_texts = read_wiki2('./data/WikiText/wiki.train.tokens')\n",
    "wiki_texts[0]   # 包含不同句的段落"
   ]
  },
  {
   "cell_type": "code",
   "execution_count": 10,
   "metadata": {},
   "outputs": [],
   "source": [
    "def read_songci(file_path=None, seps='。'):\n",
    "    \"\"\"\n",
    "    本函数的作用是格式化原始的ci.song.xxx.json数据集\n",
    "    下载地址为：https://github.com/chinese-poetry/chinese-poetry\n",
    "    掌柜在此感谢该仓库的作者维护与整理\n",
    "    :param filepath:\n",
    "    :return: 返回和 read_wiki2() 一样形式的结果\n",
    "    \"\"\"\n",
    "    with open(file_path, 'r', encoding='utf-8') as f:\n",
    "        lines = f.readlines()   # 一次性读取所有行，每一行为一首词\n",
    "    paragraphs = []\n",
    "    for line in tqdm(lines, ncols=80, desc=\"## 正在读取原始数据\"):\n",
    "        if \"□\" in line or \"……\" in line or len(line.split('。')) < 2:\n",
    "            continue\n",
    "        paragraphs.append([line[0]])\n",
    "        line = line.strip()  # 去掉换行符和两边的空格\n",
    "        for w in line[1:]:\n",
    "            if paragraphs[-1][-1][-1] in seps:\n",
    "                paragraphs[-1].append(w)\n",
    "            else:\n",
    "                paragraphs[-1][-1] += w\n",
    "    random.shuffle(paragraphs)  # 将所有段落打乱\n",
    "    return paragraphs"
   ]
  },
  {
   "cell_type": "code",
   "execution_count": 13,
   "metadata": {},
   "outputs": [
    {
     "name": "stdout",
     "output_type": "stream",
     "text": [
      "\"气和玉烛，睿化著鸿明。\",\n"
     ]
    },
    {
     "name": "stderr",
     "output_type": "stream",
     "text": [
      "## 正在读取原始数据: 100%|████████████| 14601/14601 [00:00<00:00, 585999.34it/s]\n"
     ]
    },
    {
     "data": {
      "text/plain": [
       "[' 免使年少，光阴虚过。', '\"']"
      ]
     },
     "execution_count": 13,
     "metadata": {},
     "output_type": "execute_result"
    }
   ],
   "source": [
    "with open('./data/SongCi/ci.song.0.json') as f:\n",
    "    lines = f.readlines()\n",
    "\n",
    "paragraphs = []\n",
    "line = lines[4]\n",
    "line = line.strip()\n",
    "print(line)\n",
    "\n",
    "songci_texts = read_songci('./data/SongCi/ci.song.0.json')\n",
    "songci_texts[1]   # 包含不同句的段落"
   ]
  }
 ],
 "metadata": {
  "kernelspec": {
   "display_name": "bert",
   "language": "python",
   "name": "python3"
  },
  "language_info": {
   "codemirror_mode": {
    "name": "ipython",
    "version": 3
   },
   "file_extension": ".py",
   "mimetype": "text/x-python",
   "name": "python",
   "nbconvert_exporter": "python",
   "pygments_lexer": "ipython3",
   "version": "3.10.16"
  }
 },
 "nbformat": 4,
 "nbformat_minor": 2
}
